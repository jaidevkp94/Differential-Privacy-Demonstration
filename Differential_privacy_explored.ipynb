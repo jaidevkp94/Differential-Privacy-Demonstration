{
 "cells": [
  {
   "cell_type": "markdown",
   "id": "7503b2c8",
   "metadata": {},
   "source": [
    "## Differential privacy is a novel concept of objectively defining the level of privacy that can be provided when sharing sensitive data. The core idea is to intelligently add noise to data such that when aggregated the data still shows accurate trends despite the added noise. The trade-off between accuracy and privacy is objectively defined and can be controlled through a parameter called Epsilon. This notebook is an attempt to introduce a quick and easy way to demonstrate this concept."
   ]
  },
  {
   "cell_type": "code",
   "execution_count": 1,
   "id": "8a490e2f",
   "metadata": {
    "scrolled": true
   },
   "outputs": [
    {
     "name": "stdout",
     "output_type": "stream",
     "text": [
      "Collecting python-dp\n",
      "  Downloading python_dp-1.1.1-cp38-cp38-win_amd64.whl (1.9 MB)\n",
      "Installing collected packages: python-dp\n",
      "Successfully installed python-dp-1.1.1\n",
      "Note: you may need to restart the kernel to use updated packages.\n"
     ]
    }
   ],
   "source": [
    "#Installing pydp package\n",
    "pip install python-dp"
   ]
  },
  {
   "cell_type": "markdown",
   "id": "895b6192",
   "metadata": {},
   "source": [
    "### The PyDP package implements differentially private functions for aggregating data"
   ]
  },
  {
   "cell_type": "code",
   "execution_count": 2,
   "id": "19606341",
   "metadata": {},
   "outputs": [],
   "source": [
    "#Importing necessary packages\n",
    "import pydp as dp\n",
    "from pydp.algorithms.laplacian import BoundedSum, BoundedMean, Count, Max\n",
    "import pandas as pd\n",
    "import statistics"
   ]
  },
  {
   "cell_type": "markdown",
   "id": "2d17d2bd",
   "metadata": {},
   "source": [
    "### We will read a sample dataset with sensitive sales information along with personal details like name and email. I will add my details to this dataset and demonstrate how its possible to identify my personal information from this data even if name and email were anonymized."
   ]
  },
  {
   "cell_type": "code",
   "execution_count": 24,
   "id": "8633ac53",
   "metadata": {},
   "outputs": [
    {
     "data": {
      "text/plain": [
       "(   id first_name   last_name                      email  sales_amount  \\\n",
       " 0   1   Osbourne    Gillions  ogillions0@feedburner.com         31.94   \n",
       " 1   2      Glynn      Friett          gfriett1@blog.com         12.46   \n",
       " 2   3       Jori    Blockley      jblockley2@unesco.org        191.14   \n",
       " 3   4     Garald      Dorian     gdorian3@webeden.co.uk        126.58   \n",
       " 4   5      Mercy  Pilkington      mpilkington4@jugem.jp         68.32   \n",
       " \n",
       "         state  \n",
       " 0     Florida  \n",
       " 1  California  \n",
       " 2    Colorado  \n",
       " 3       Texas  \n",
       " 4     Florida  ,\n",
       " (1000, 6))"
      ]
     },
     "execution_count": 24,
     "metadata": {},
     "output_type": "execute_result"
    }
   ],
   "source": [
    "#Reading sample sales data\n",
    "url1 = \"https://raw.githubusercontent.com/OpenMined/PyDP/dev/examples/Tutorial_4-Launch_demo/data/01.csv\"\n",
    "original_df = pd.read_csv(url1, sep=\",\", engine=\"python\")\n",
    "original_df.head(), original_df.shape"
   ]
  },
  {
   "cell_type": "code",
   "execution_count": 25,
   "id": "300ac606",
   "metadata": {},
   "outputs": [],
   "source": [
    "#Adding my sales info with sales amount as 250\n",
    "added_df = pd.concat([original_df,pd.DataFrame({'id':1001,'first_name':'Jayadev','last_name':'KP','email':'jayadev@dummy.com','sales_amount':250.0,'state':'Minnesota'},index=[1000])])"
   ]
  },
  {
   "cell_type": "code",
   "execution_count": 26,
   "id": "ff530d3a",
   "metadata": {
    "scrolled": false
   },
   "outputs": [
    {
     "data": {
      "text/html": [
       "<div>\n",
       "<style scoped>\n",
       "    .dataframe tbody tr th:only-of-type {\n",
       "        vertical-align: middle;\n",
       "    }\n",
       "\n",
       "    .dataframe tbody tr th {\n",
       "        vertical-align: top;\n",
       "    }\n",
       "\n",
       "    .dataframe thead th {\n",
       "        text-align: right;\n",
       "    }\n",
       "</style>\n",
       "<table border=\"1\" class=\"dataframe\">\n",
       "  <thead>\n",
       "    <tr style=\"text-align: right;\">\n",
       "      <th></th>\n",
       "      <th>id</th>\n",
       "      <th>first_name</th>\n",
       "      <th>last_name</th>\n",
       "      <th>email</th>\n",
       "      <th>sales_amount</th>\n",
       "      <th>state</th>\n",
       "    </tr>\n",
       "  </thead>\n",
       "  <tbody>\n",
       "    <tr>\n",
       "      <th>0</th>\n",
       "      <td>1</td>\n",
       "      <td>Osbourne</td>\n",
       "      <td>Gillions</td>\n",
       "      <td>ogillions0@feedburner.com</td>\n",
       "      <td>31.94</td>\n",
       "      <td>Florida</td>\n",
       "    </tr>\n",
       "    <tr>\n",
       "      <th>1</th>\n",
       "      <td>2</td>\n",
       "      <td>Glynn</td>\n",
       "      <td>Friett</td>\n",
       "      <td>gfriett1@blog.com</td>\n",
       "      <td>12.46</td>\n",
       "      <td>California</td>\n",
       "    </tr>\n",
       "    <tr>\n",
       "      <th>2</th>\n",
       "      <td>3</td>\n",
       "      <td>Jori</td>\n",
       "      <td>Blockley</td>\n",
       "      <td>jblockley2@unesco.org</td>\n",
       "      <td>191.14</td>\n",
       "      <td>Colorado</td>\n",
       "    </tr>\n",
       "    <tr>\n",
       "      <th>3</th>\n",
       "      <td>4</td>\n",
       "      <td>Garald</td>\n",
       "      <td>Dorian</td>\n",
       "      <td>gdorian3@webeden.co.uk</td>\n",
       "      <td>126.58</td>\n",
       "      <td>Texas</td>\n",
       "    </tr>\n",
       "    <tr>\n",
       "      <th>4</th>\n",
       "      <td>5</td>\n",
       "      <td>Mercy</td>\n",
       "      <td>Pilkington</td>\n",
       "      <td>mpilkington4@jugem.jp</td>\n",
       "      <td>68.32</td>\n",
       "      <td>Florida</td>\n",
       "    </tr>\n",
       "    <tr>\n",
       "      <th>...</th>\n",
       "      <td>...</td>\n",
       "      <td>...</td>\n",
       "      <td>...</td>\n",
       "      <td>...</td>\n",
       "      <td>...</td>\n",
       "      <td>...</td>\n",
       "    </tr>\n",
       "    <tr>\n",
       "      <th>996</th>\n",
       "      <td>997</td>\n",
       "      <td>Zacharie</td>\n",
       "      <td>Powdrill</td>\n",
       "      <td>zpowdrillro@domainmarket.com</td>\n",
       "      <td>136.94</td>\n",
       "      <td>Colorado</td>\n",
       "    </tr>\n",
       "    <tr>\n",
       "      <th>997</th>\n",
       "      <td>998</td>\n",
       "      <td>Burty</td>\n",
       "      <td>Aucutt</td>\n",
       "      <td>baucuttrp@blogtalkradio.com</td>\n",
       "      <td>218.39</td>\n",
       "      <td>Texas</td>\n",
       "    </tr>\n",
       "    <tr>\n",
       "      <th>998</th>\n",
       "      <td>999</td>\n",
       "      <td>Aili</td>\n",
       "      <td>Hale</td>\n",
       "      <td>ahalerq@ask.com</td>\n",
       "      <td>164.54</td>\n",
       "      <td>Pennsylvania</td>\n",
       "    </tr>\n",
       "    <tr>\n",
       "      <th>999</th>\n",
       "      <td>1000</td>\n",
       "      <td>Giffard</td>\n",
       "      <td>Eagland</td>\n",
       "      <td>geaglandrr@github.com</td>\n",
       "      <td>173.33</td>\n",
       "      <td>Wyoming</td>\n",
       "    </tr>\n",
       "    <tr>\n",
       "      <th>1000</th>\n",
       "      <td>1001</td>\n",
       "      <td>Jayadev</td>\n",
       "      <td>KP</td>\n",
       "      <td>jayadev@dummy.com</td>\n",
       "      <td>250.00</td>\n",
       "      <td>Minnesota</td>\n",
       "    </tr>\n",
       "  </tbody>\n",
       "</table>\n",
       "<p>1001 rows × 6 columns</p>\n",
       "</div>"
      ],
      "text/plain": [
       "        id first_name   last_name                         email  sales_amount  \\\n",
       "0        1   Osbourne    Gillions     ogillions0@feedburner.com         31.94   \n",
       "1        2      Glynn      Friett             gfriett1@blog.com         12.46   \n",
       "2        3       Jori    Blockley         jblockley2@unesco.org        191.14   \n",
       "3        4     Garald      Dorian        gdorian3@webeden.co.uk        126.58   \n",
       "4        5      Mercy  Pilkington         mpilkington4@jugem.jp         68.32   \n",
       "...    ...        ...         ...                           ...           ...   \n",
       "996    997   Zacharie    Powdrill  zpowdrillro@domainmarket.com        136.94   \n",
       "997    998      Burty      Aucutt   baucuttrp@blogtalkradio.com        218.39   \n",
       "998    999       Aili        Hale               ahalerq@ask.com        164.54   \n",
       "999   1000    Giffard     Eagland         geaglandrr@github.com        173.33   \n",
       "1000  1001    Jayadev          KP             jayadev@dummy.com        250.00   \n",
       "\n",
       "             state  \n",
       "0          Florida  \n",
       "1       California  \n",
       "2         Colorado  \n",
       "3            Texas  \n",
       "4          Florida  \n",
       "...            ...  \n",
       "996       Colorado  \n",
       "997          Texas  \n",
       "998   Pennsylvania  \n",
       "999        Wyoming  \n",
       "1000     Minnesota  \n",
       "\n",
       "[1001 rows x 6 columns]"
      ]
     },
     "execution_count": 26,
     "metadata": {},
     "output_type": "execute_result"
    }
   ],
   "source": [
    "#The last row has the newly added data\n",
    "added_df"
   ]
  },
  {
   "cell_type": "markdown",
   "id": "9a7a2af7",
   "metadata": {},
   "source": [
    "### Suppose we had access to query this data such that we get accurate aggregate sales for certain users without having de-anonymized data. Even in such a system we can extract an individuals sales by computing the difference in total sales for the whole dataset from total sales for a dataset with my information excluded."
   ]
  },
  {
   "cell_type": "code",
   "execution_count": 29,
   "id": "7db1b0ba",
   "metadata": {},
   "outputs": [
    {
     "data": {
      "text/plain": [
       "250.0"
      ]
     },
     "execution_count": 29,
     "metadata": {},
     "output_type": "execute_result"
    }
   ],
   "source": [
    "sum_added = sum(added_df[\"sales_amount\"].to_list())\n",
    "sum_original = sum(original_df[\"sales_amount\"].to_list())\n",
    "sales_amount_Jayadev = (sum_added - sum_original)\n",
    "#My sales info\n",
    "sales_amount_Jayadev"
   ]
  },
  {
   "cell_type": "markdown",
   "id": "32e518b4",
   "metadata": {},
   "source": [
    "### In a differentially private system, we can add \"intelligent\" noise to this sum such that there is a slight inaccuracy which does not destroy the analytical capability in the data but makes it impossible to determine a certain individuals sales info"
   ]
  },
  {
   "cell_type": "code",
   "execution_count": 30,
   "id": "281d5113",
   "metadata": {},
   "outputs": [],
   "source": [
    "#Defining a bounded differentially private function to sum the sales in data which excludes my info. \n",
    "#Note: We assume individual sales cant be less than $5 or greater than $300.\n",
    "dp_sum_original = BoundedSum(\n",
    "    epsilon=1, lower_bound=5, upper_bound=300, dtype=\"float\"\n",
    ")"
   ]
  },
  {
   "cell_type": "code",
   "execution_count": 31,
   "id": "f239789b",
   "metadata": {},
   "outputs": [],
   "source": [
    "dp_sum_original.reset()\n",
    "dp_sum_original.add_entries(\n",
    "    original_df[\"sales_amount\"].to_list()\n",
    ")"
   ]
  },
  {
   "cell_type": "code",
   "execution_count": 32,
   "id": "87f7222f",
   "metadata": {},
   "outputs": [
    {
     "data": {
      "text/plain": [
       "128107.32515908545"
      ]
     },
     "execution_count": 32,
     "metadata": {},
     "output_type": "execute_result"
    }
   ],
   "source": [
    "#Aggregate sales with DP\n",
    "dp_sum_og = dp_sum_original.result()\n",
    "dp_sum_og"
   ]
  },
  {
   "cell_type": "code",
   "execution_count": 33,
   "id": "ae143c6f",
   "metadata": {},
   "outputs": [],
   "source": [
    "#Defining a bounded differentially private function to sum the sales in data which includes my info. \n",
    "dp_sum_added = BoundedSum(epsilon=1, lower_bound=5, upper_bound=300, dtype=\"float\")\n",
    "dp_sum_added.add_entries(added_df[\"sales_amount\"].to_list())"
   ]
  },
  {
   "cell_type": "code",
   "execution_count": 34,
   "id": "e50dc78a",
   "metadata": {
    "scrolled": true
   },
   "outputs": [
    {
     "data": {
      "text/plain": [
       "128877.47793508228"
      ]
     },
     "execution_count": 34,
     "metadata": {},
     "output_type": "execute_result"
    }
   ],
   "source": [
    "#Aggregate sales with DP\n",
    "dp_sum_add = dp_sum_added.result()\n",
    "dp_sum_add"
   ]
  },
  {
   "cell_type": "markdown",
   "id": "ffddde60",
   "metadata": {},
   "source": [
    "### Note below that subtracting the differentially private sums does not reveal my sales information"
   ]
  },
  {
   "cell_type": "code",
   "execution_count": 35,
   "id": "90c7ff86",
   "metadata": {},
   "outputs": [
    {
     "data": {
      "text/plain": [
       "770.1527759968303"
      ]
     },
     "execution_count": 35,
     "metadata": {},
     "output_type": "execute_result"
    }
   ],
   "source": [
    "dp_sum_add - dp_sum_og"
   ]
  },
  {
   "cell_type": "code",
   "execution_count": 36,
   "id": "0efddeb3",
   "metadata": {
    "scrolled": true
   },
   "outputs": [
    {
     "name": "stdout",
     "output_type": "stream",
     "text": [
      "Difference in sum using DP: 770.15\n",
      "Actual Value: 250.0\n"
     ]
    }
   ],
   "source": [
    "print(\"Difference in sum using DP: {}\".format(round(dp_sum_add - dp_sum_og, 2)))\n",
    "print(\"Actual Value: {}\".format(sales_amount_Jayadev))"
   ]
  },
  {
   "cell_type": "markdown",
   "id": "8fd5235d",
   "metadata": {},
   "source": [
    "### As we show below, despite adding noise we still have less than 1% change in the differentially private aggregate sales vs the unaltered aggregate sales"
   ]
  },
  {
   "cell_type": "code",
   "execution_count": 37,
   "id": "89d7d9f6",
   "metadata": {},
   "outputs": [
    {
     "name": "stdout",
     "output_type": "stream",
     "text": [
      "Sum of sales_value in the original Dataset: 127931.37999999984\n",
      "Sum of sales_value in the original Dataset using DP: 128107.32515908545\n"
     ]
    }
   ],
   "source": [
    "print(\"Sum of sales_value in the original Dataset: {}\".format(sum_original))\n",
    "print(\"Sum of sales_value in the original Dataset using DP: {}\".format(dp_sum_og))"
   ]
  },
  {
   "cell_type": "code",
   "execution_count": 38,
   "id": "99424449",
   "metadata": {},
   "outputs": [
    {
     "name": "stdout",
     "output_type": "stream",
     "text": [
      "Sum of sales_value in the added Dataset: 128181.37999999984\n",
      "Sum of sales_value in the added Dataset using DP: 128877.47793508228\n"
     ]
    }
   ],
   "source": [
    "print(\"Sum of sales_value in the added Dataset: {}\".format(sum_added))\n",
    "print(\"Sum of sales_value in the added Dataset using DP: {}\".format(dp_sum_add))"
   ]
  },
  {
   "cell_type": "markdown",
   "id": "fbcdf4f8",
   "metadata": {},
   "source": [
    "### Another important aspect of DP is the ability to control the amount of noise added through a parameter called Epsilon. As we lower this value the inaccuracy in data increases thereby providing more privacy but this comes at the cost of analytical utility. In the below section we show this tradeoff by calculating the difference in sum of sales for various values of epsilon. We do this for 100 different iterations to account for the randomness of the noise being added"
   ]
  },
  {
   "cell_type": "code",
   "execution_count": 45,
   "id": "98ba2879",
   "metadata": {},
   "outputs": [],
   "source": [
    "#Calculating the difference in sum of sales for different epsilon values across 100 iterations\n",
    "sum_diff_dp_all = []\n",
    "for simulation in range(100):\n",
    "    sum_diff_dp = []\n",
    "    for eps in [0.1,1,10,100]:\n",
    "        dp_sum_original = BoundedSum(epsilon=eps, lower_bound=5, upper_bound=300, dtype=\"float\")\n",
    "        dp_sum_original.reset()\n",
    "        dp_sum_original.add_entries(original_df[\"sales_amount\"].to_list())\n",
    "        dp_sum_added = BoundedSum(epsilon=eps, lower_bound=5, upper_bound=300, dtype=\"float\")\n",
    "        dp_sum_added.add_entries(added_df[\"sales_amount\"].to_list())\n",
    "        sum_diff_dp.append(round(dp_sum_added.result() - dp_sum_original.result(), 2))\n",
    "    sum_diff_dp_all.append(sum_diff_dp)"
   ]
  },
  {
   "cell_type": "code",
   "execution_count": 47,
   "id": "99fae041",
   "metadata": {},
   "outputs": [],
   "source": [
    "df = pd.DataFrame(sum_diff_dp_all,columns = ['eps_0.1' , 'eps_1', 'eps_10' , 'eps_100'])"
   ]
  },
  {
   "cell_type": "code",
   "execution_count": 60,
   "id": "9d1f0182",
   "metadata": {},
   "outputs": [
    {
     "data": {
      "image/png": "[encoded data removed]",
      "text/plain": [
       "<Figure size 432x288 with 1 Axes>"
      ]
     },
     "metadata": {},
     "output_type": "display_data"
    }
   ],
   "source": [
    "#Plotting the above calculated values across Epsilon values\n",
    "%matplotlib inline\n",
    "import matplotlib.pyplot as plt\n",
    "plt.style.use('seaborn-whitegrid')\n",
    "import numpy as np\n",
    "\n",
    "plt.title('Difference in sum using DP across various Epsilon values')\n",
    "plt.xlabel('Epsilon')\n",
    "plt.ylabel('Difference in sum')\n",
    "x = range(4)\n",
    "for i in range(len(sum_diff_dp_all)):\n",
    "    plt.plot(x, sum_diff_dp_all[i], marker='o')\n",
    "plt.xticks(x,[0.1 , 1, 10 , 100])\n",
    "plt.show()\n",
    "\n"
   ]
  },
  {
   "cell_type": "markdown",
   "id": "ccc3ce23",
   "metadata": {},
   "source": [
    "### As seen above, lower the Epsilon value, greater the amount of noise added. As epsilon value increases, the estimate becomes closer to the actual value ($ 250)"
   ]
  },
  {
   "cell_type": "markdown",
   "id": "3f94f093",
   "metadata": {},
   "source": [
    "## The above code was inspired by Open Mined's Python Wrapper for Google's Differential Privacy project. The link for their page is here:https://blog.openmined.org/.\n",
    "\n",
    "## Also check out my presentation on the basics on Differential Privacy here: https://www.youtube.com/watch?v=C3KnAsXqJHQ"
   ]
  }
 ],
 "metadata": {
  "kernelspec": {
   "display_name": "Python 3",
   "language": "python",
   "name": "python3"
  },
  "language_info": {
   "codemirror_mode": {
    "name": "ipython",
    "version": 3
   },
   "file_extension": ".py",
   "mimetype": "text/x-python",
   "name": "python",
   "nbconvert_exporter": "python",
   "pygments_lexer": "ipython3",
   "version": "3.8.8"
  }
 },
 "nbformat": 4,
 "nbformat_minor": 5
}
